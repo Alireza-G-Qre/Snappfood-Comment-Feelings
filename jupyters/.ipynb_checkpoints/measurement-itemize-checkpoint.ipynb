{
 "cells": [
  {
   "cell_type": "code",
   "execution_count": 1,
   "metadata": {},
   "outputs": [],
   "source": [
    "pdf_dir = '/home/alireza/Documents/IR/books/'"
   ]
  },
  {
   "cell_type": "code",
   "execution_count": 2,
   "metadata": {},
   "outputs": [],
   "source": [
    "from langdetect import detect\n",
    "from io import StringIO\n",
    "from os import listdir\n",
    "\n",
    "import re\n",
    "import tqdm\n",
    "import string\n",
    "from hazm import *\n",
    "\n",
    "from pdfminer.pdfinterp import PDFResourceManager, PDFPageInterpreter\n",
    "from pdfminer.converter import TextConverter\n",
    "from pdfminer.pdfpage import PDFPage\n",
    "from pdfminer.layout import LAParams"
   ]
  },
  {
   "cell_type": "code",
   "execution_count": 3,
   "metadata": {},
   "outputs": [
    {
     "name": "stderr",
     "output_type": "stream",
     "text": [
      "/home/alireza/Virs/ir/lib/python3.6/site-packages/ipykernel_launcher.py:3: FutureWarning: Passing a negative integer is deprecated in version 1.0 and will not be supported in future version. Instead, use None to not limit the column width.\n",
      "  This is separate from the ipykernel package so we can avoid doing imports until\n"
     ]
    }
   ],
   "source": [
    "import pandas as pd\n",
    "\n",
    "pd.set_option('display.max_colwidth', -1)"
   ]
  },
  {
   "cell_type": "code",
   "execution_count": 4,
   "metadata": {},
   "outputs": [],
   "source": [
    "def convert_pdf_to_txt(path):\n",
    "    rsrcmgr = PDFResourceManager()\n",
    "    laparams = LAParams()\n",
    "    retstr = StringIO()\n",
    "    codec = 'utf-8'\n",
    "    \n",
    "    device = TextConverter(rsrcmgr, retstr, codec=codec, laparams=laparams)\n",
    "    fp = open(path, 'rb')\n",
    "    interpreter = PDFPageInterpreter(rsrcmgr, device)\n",
    "    \n",
    "   \n",
    "    maxpages = 0\n",
    "    password = \"\"\n",
    "    caching = True\n",
    "    \n",
    "    pagenos=set()\n",
    "\n",
    "    for page in PDFPage.get_pages(fp, pagenos, maxpages=maxpages, password=password,caching=caching, check_extractable=True):\n",
    "        interpreter.process_page(page)\n",
    "\n",
    "    text = retstr.getvalue()\n",
    "\n",
    "    fp.close()\n",
    "    device.close()\n",
    "    retstr.close()\n",
    "    \n",
    "    return text[::-1]"
   ]
  },
  {
   "cell_type": "code",
   "execution_count": 5,
   "metadata": {},
   "outputs": [],
   "source": [
    "tokenizer = WordTokenizer(\n",
    "    replace_hashtags=True, replace_links=True, replace_IDs=True,\n",
    "    join_verb_parts=True, replace_numbers=True, replace_emails=True, \n",
    "    separate_emoji=True).tokenize\n",
    "\n",
    "normalizer = Normalizer(token_based=True)"
   ]
  },
  {
   "cell_type": "code",
   "execution_count": 6,
   "metadata": {},
   "outputs": [],
   "source": [
    "def rotate(text): \n",
    "    \n",
    "    ex = ''\n",
    "    pr = ''\n",
    "    \n",
    "    if len(text) > 1 and text[-1] in string.punctuation:\n",
    "        text, ex = text[:-1], text[-1]\n",
    "    \n",
    "    if len(text) > 1 and text[1] in string.punctuation:\n",
    "        text, pr = text[1:], text[1]\n",
    "\n",
    "    return pr + (text if detect(text) == 'fa' else text[::-1]) + ex\n",
    "\n",
    "def is_persian(text): \n",
    "    try:\n",
    "        return detect(text) == 'fa'\n",
    "    except: pass"
   ]
  },
  {
   "cell_type": "code",
   "execution_count": 7,
   "metadata": {},
   "outputs": [
    {
     "name": "stderr",
     "output_type": "stream",
     "text": [
      "\r",
      "  0%|          | 0/7 [00:00<?, ?it/s]"
     ]
    },
    {
     "name": "stdout",
     "output_type": "stream",
     "text": [
      "C112210.pdf\n"
     ]
    },
    {
     "name": "stderr",
     "output_type": "stream",
     "text": [
      "\r",
      " 14%|█▍        | 1/7 [00:21<02:07, 21.26s/it]"
     ]
    },
    {
     "name": "stdout",
     "output_type": "stream",
     "text": [
      "C112209.pdf\n"
     ]
    },
    {
     "name": "stderr",
     "output_type": "stream",
     "text": [
      "\r",
      " 29%|██▊       | 2/7 [01:22<03:45, 45.03s/it]"
     ]
    },
    {
     "name": "stdout",
     "output_type": "stream",
     "text": [
      "Ashpazi.pdf\n"
     ]
    },
    {
     "name": "stderr",
     "output_type": "stream",
     "text": [
      "\r",
      " 43%|████▎     | 3/7 [02:06<02:57, 44.40s/it]"
     ]
    },
    {
     "name": "stdout",
     "output_type": "stream",
     "text": [
      "C110209.pdf\n"
     ]
    },
    {
     "name": "stderr",
     "output_type": "stream",
     "text": [
      "\r",
      " 57%|█████▋    | 4/7 [03:15<02:42, 54.11s/it]"
     ]
    },
    {
     "name": "stdout",
     "output_type": "stream",
     "text": [
      "C110210.pdf\n"
     ]
    },
    {
     "name": "stderr",
     "output_type": "stream",
     "text": [
      "\r",
      " 71%|███████▏  | 5/7 [03:34<01:22, 41.46s/it]"
     ]
    },
    {
     "name": "stdout",
     "output_type": "stream",
     "text": [
      "C111209.pdf\n"
     ]
    },
    {
     "name": "stderr",
     "output_type": "stream",
     "text": [
      "\r",
      " 86%|████████▌ | 6/7 [04:39<00:49, 49.50s/it]"
     ]
    },
    {
     "name": "stdout",
     "output_type": "stream",
     "text": [
      "C111210.pdf\n"
     ]
    },
    {
     "name": "stderr",
     "output_type": "stream",
     "text": [
      "100%|██████████| 7/7 [05:01<00:00, 43.05s/it]\n"
     ]
    }
   ],
   "source": [
    "sentences = []\n",
    "minvocab = 3\n",
    "\n",
    "for file in tqdm.tqdm(listdir(pdf_dir)):\n",
    "    \n",
    "    print(file)\n",
    "    text = convert_pdf_to_txt(pdf_dir + file)\n",
    "    text = normalizer.normalize(text)\n",
    "    \n",
    "    sent = sent_tokenize(text)\n",
    "    sent = filter(lambda text: len(text) > minvocab, sent)\n",
    "    sent = filter(lambda text: is_persian(text), sent)\n",
    "    \n",
    "    sent = list(sent)\n",
    "    \n",
    "    text = \" \".join(sent)\n",
    "    toks = word_tokenize(text)\n",
    "    toks = filter(bool, toks)\n",
    "    toks = map(lambda text: rotate(text), toks)\n",
    "    text = \" \".join(sent)\n",
    "    \n",
    "    sent = sent_tokenize(text)\n",
    "    sentences.extend(sent)\n",
    "        "
   ]
  },
  {
   "cell_type": "code",
   "execution_count": 8,
   "metadata": {},
   "outputs": [],
   "source": [
    "df = pd.DataFrame(sentences, columns=['sentence'])"
   ]
  },
  {
   "cell_type": "code",
   "execution_count": 9,
   "metadata": {},
   "outputs": [
    {
     "data": {
      "text/html": [
       "<div>\n",
       "<style scoped>\n",
       "    .dataframe tbody tr th:only-of-type {\n",
       "        vertical-align: middle;\n",
       "    }\n",
       "\n",
       "    .dataframe tbody tr th {\n",
       "        vertical-align: top;\n",
       "    }\n",
       "\n",
       "    .dataframe thead th {\n",
       "        text-align: right;\n",
       "    }\n",
       "</style>\n",
       "<table border=\"1\" class=\"dataframe\">\n",
       "  <thead>\n",
       "    <tr style=\"text-align: right;\">\n",
       "      <th></th>\n",
       "      <th>sentence</th>\n",
       "    </tr>\n",
       "  </thead>\n",
       "  <tbody>\n",
       "    <tr>\n",
       "      <th>10581</th>\n",
       "      <td>آ) برای تهیۀ ٥/۲۴ کیلوگرم آمونیاک به چند مول گاز هیدروژن نیاز است؟) g (۳HN۲) g (۲H۳ +) g ( ۲N ۲ معادلۀ موازنه شدۀ واکنش تولید آمونیاک به صورت زیر است: ۲FaC + lCaN O۲H + ON eF + ۳O۲lA O۲H + ۲OS ۴lCiS FaN + ۲lCaC (ث ۲O + ۳HN (ت ۳O۲eF + lA (پ ۲O + S۲H (ب ۲lC + iS (آ مترین‌های دوره‌ای ۱ در هریک از واکنش‌های زیر نخست نام مواد شرکت‌کننده را بنویسید و سپس آن را موازنه کنید.</td>\n",
       "    </tr>\n",
       "    <tr>\n",
       "      <th>7312</th>\n",
       "      <td>از این خاصیت آب برای گرم کردن فضای خانه‌ها تغییر دما دهد، در مقایسه با سایر مواد، گرمای بیشتری با محیط اطراف نشان می‌دهد که وقتی یک کیلوگرم آب به اندازهٔ یک درجهٔ سلسیوس جدول ۴۳ دیدیم که گرمای ویژهٔ آب از سایر مواد بیشتر است.</td>\n",
       "    </tr>\n",
       "    <tr>\n",
       "      <th>8573</th>\n",
       "      <td>انرژی جنبشی کمیتی نرده‌ای و همواره مثبت است؛ این کمیت تنها به جرم و جنبشی (و هر نوع دیگری از انرژی) ۲s/۲mgk است که به افتخار جیمز ژول، فیزیک‌دان انگلیسی، یکاهای IS جرم و تندی به ترتیب کیلوگرم (gk) و متربرثانیه (s/m) است.</td>\n",
       "    </tr>\n",
       "    <tr>\n",
       "      <th>8680</th>\n",
       "      <td>این نتیجه نشان می‌دهد که اگر قطعه‌ای مکعبی، به اندازهٔ یک قوطی کبریت، از این فلز داشته باشیم، در این صورت جرم آن / × (۰۱ ۰ ۳۲ ×) m / gk ۳) m ۳ ۶ − gk / ۸۱۵ ۰ = پاسخ: از رابطهٔ ۱۱ داریم: ۳mc ۰/۳۲، چند کیلوگرم است؟</td>\n",
       "    </tr>\n",
       "    <tr>\n",
       "      <th>10775</th>\n",
       "      <td>۰۵ کیلوگرم کربن دی‌اکسید مصرف یک درخت تنومند ساالنه در حدود اگر امروز یک نهال بکارید، حداقل ۰۲ سال طول می‌کشد تا به یک درخت تنومند تبدیل شود.) هر یک کیلومتر مسافت طی شده با خودرو را برابر با ۰٥۲ گرم در نظر بگیرید.</td>\n",
       "    </tr>\n",
       "    <tr>\n",
       "      <th>11492</th>\n",
       "      <td>بر این بر ثانیه (۱ -sm ۸۰۱ ×۳) و E، انرژی کیلوگرم، c سرعت نور برحسب متر این رابطه، m جرم ماده برحسب واکنش‌های هسته‌ای ارائه کرد.</td>\n",
       "    </tr>\n",
       "    <tr>\n",
       "      <th>14590</th>\n",
       "      <td>پ) اگر یک فرد ۰۷ کیلوگرمی، ۵۲ گرم بادام خورده باشد، برای مصرف انرژی حاصل از آن چه مدت باید پیاده‌روی کند؟</td>\n",
       "    </tr>\n",
       "    <tr>\n",
       "      <th>14902</th>\n",
       "      <td>این در حالی است دارد تا وظایف خود را در پاینی‌ترین ۰۰۱ کیلوژول انرژی در شبانه‌روز نیاز هر کیلوگرم از بدن به طور میانگنی به آیا می‌دانید منفی گزارش شده است.</td>\n",
       "    </tr>\n",
       "    <tr>\n",
       "      <th>15549</th>\n",
       "      <td>الف) در صورتی که در پاالیش طال به کمک گیاهان، در هر هکتار بتوان ۰۲ تن گیاه برداشت nZ uC iN uA ۰۰۰۵۵۱ ۰۰۰۵۴۲ ۰۰۰۰۲۸ ۰۰۰۰۰۰۰۰۲۱ ۰۴ ۴۱ ۸۳ ۱/۰ ۵ ۵/۰ ۲ ۲۰۰/۰ مناد شیمیایی فلز (ریال) قیمت هر کیلوگرم فلز کیلوگرم از گیاه (گرم) بیشترین مقدار فلز در یک درصد فلز در سنگ معدن در جدول زیر، داده هایی دربارۀ این روش ارائه شده است.</td>\n",
       "    </tr>\n",
       "    <tr>\n",
       "      <th>10084</th>\n",
       "      <td>رد پای آب در تولید هر کیلوگرم به دیگر سخن، میانگنی جهانی مترمکعب آب مصرف شده است.</td>\n",
       "    </tr>\n",
       "  </tbody>\n",
       "</table>\n",
       "</div>"
      ],
      "text/plain": [
       "                                                                                                                                                                                                                                                                                                                                                                                sentence\n",
       "10581  آ) برای تهیۀ ٥/۲۴ کیلوگرم آمونیاک به چند مول گاز هیدروژن نیاز است؟) g (۳HN۲) g (۲H۳ +) g ( ۲N ۲ معادلۀ موازنه شدۀ واکنش تولید آمونیاک به صورت زیر است: ۲FaC + lCaN O۲H + ON eF + ۳O۲lA O۲H + ۲OS ۴lCiS FaN + ۲lCaC (ث ۲O + ۳HN (ت ۳O۲eF + lA (پ ۲O + S۲H (ب ۲lC + iS (آ مترین‌های دوره‌ای ۱ در هریک از واکنش‌های زیر نخست نام مواد شرکت‌کننده را بنویسید و سپس آن را موازنه کنید.\n",
       "7312   از این خاصیت آب برای گرم کردن فضای خانه‌ها تغییر دما دهد، در مقایسه با سایر مواد، گرمای بیشتری با محیط اطراف نشان می‌دهد که وقتی یک کیلوگرم آب به اندازهٔ یک درجهٔ سلسیوس جدول ۴۳ دیدیم که گرمای ویژهٔ آب از سایر مواد بیشتر است.                                                                                                                                                \n",
       "8573   انرژی جنبشی کمیتی نرده‌ای و همواره مثبت است؛ این کمیت تنها به جرم و جنبشی (و هر نوع دیگری از انرژی) ۲s/۲mgk است که به افتخار جیمز ژول، فیزیک‌دان انگلیسی، یکاهای IS جرم و تندی به ترتیب کیلوگرم (gk) و متربرثانیه (s/m) است.                                                                                                                                                     \n",
       "8680   این نتیجه نشان می‌دهد که اگر قطعه‌ای مکعبی، به اندازهٔ یک قوطی کبریت، از این فلز داشته باشیم، در این صورت جرم آن / × (۰۱ ۰ ۳۲ ×) m / gk ۳) m ۳ ۶ − gk / ۸۱۵ ۰ = پاسخ: از رابطهٔ ۱۱ داریم: ۳mc ۰/۳۲، چند کیلوگرم است؟                                                                                                                                                             \n",
       "10775  ۰۵ کیلوگرم کربن دی‌اکسید مصرف یک درخت تنومند ساالنه در حدود اگر امروز یک نهال بکارید، حداقل ۰۲ سال طول می‌کشد تا به یک درخت تنومند تبدیل شود.) هر یک کیلومتر مسافت طی شده با خودرو را برابر با ۰٥۲ گرم در نظر بگیرید.                                                                                                                                                            \n",
       "11492  بر این بر ثانیه (۱ -sm ۸۰۱ ×۳) و E، انرژی کیلوگرم، c سرعت نور برحسب متر این رابطه، m جرم ماده برحسب واکنش‌های هسته‌ای ارائه کرد.                                                                                                                                                                                                                                                 \n",
       "14590  پ) اگر یک فرد ۰۷ کیلوگرمی، ۵۲ گرم بادام خورده باشد، برای مصرف انرژی حاصل از آن چه مدت باید پیاده‌روی کند؟                                                                                                                                                                                                                                                                        \n",
       "14902  این در حالی است دارد تا وظایف خود را در پاینی‌ترین ۰۰۱ کیلوژول انرژی در شبانه‌روز نیاز هر کیلوگرم از بدن به طور میانگنی به آیا می‌دانید منفی گزارش شده است.                                                                                                                                                                                                                      \n",
       "15549  الف) در صورتی که در پاالیش طال به کمک گیاهان، در هر هکتار بتوان ۰۲ تن گیاه برداشت nZ uC iN uA ۰۰۰۵۵۱ ۰۰۰۵۴۲ ۰۰۰۰۲۸ ۰۰۰۰۰۰۰۰۲۱ ۰۴ ۴۱ ۸۳ ۱/۰ ۵ ۵/۰ ۲ ۲۰۰/۰ مناد شیمیایی فلز (ریال) قیمت هر کیلوگرم فلز کیلوگرم از گیاه (گرم) بیشترین مقدار فلز در یک درصد فلز در سنگ معدن در جدول زیر، داده هایی دربارۀ این روش ارائه شده است.                                                     \n",
       "10084  رد پای آب در تولید هر کیلوگرم به دیگر سخن، میانگنی جهانی مترمکعب آب مصرف شده است.                                                                                                                                                                                                                                                                                                "
      ]
     },
     "metadata": {},
     "output_type": "display_data"
    }
   ],
   "source": [
    "with pd.option_context('display.max_rows', None, 'display.max_columns', None):\n",
    "    display(df[df.sentence.str.contains('کیلوگرم')].sample(10))"
   ]
  },
  {
   "cell_type": "code",
   "execution_count": 10,
   "metadata": {},
   "outputs": [],
   "source": [
    "df.to_csv('measurement-context.csv', index=False)"
   ]
  },
  {
   "cell_type": "code",
   "execution_count": null,
   "metadata": {},
   "outputs": [],
   "source": []
  },
  {
   "cell_type": "code",
   "execution_count": 173,
   "metadata": {},
   "outputs": [
    {
     "name": "stdout",
     "output_type": "stream",
     "text": [
      "current field:  طول (Length)\n",
      "current field:  وزن (Weight)\n",
      "current field:  فشار (Pressure)\n",
      "current field:  حجم (Volume)\n",
      "current field:  دما (Temperature)\n",
      "current field:  مساحت (Area)\n",
      "current field:  سرعت (Speed)\n",
      "current field:  نیرو (Force)\n",
      "current field:  انرژی (Energy)\n",
      "current field:  توان (Power)\n",
      "current field:  گشتاور (Torque)\n",
      "current field:  زمان (Time)\n",
      "current field:  چگالی (غلظت جرمی) (Density)\n",
      "current field:  فرکانس (Frequency)\n",
      "current field:  زاویه (Angle)\n",
      "current field:  شتاب (Acceleration)\n",
      "current field:  شارش جرمی (Mass Flow)\n",
      "current field:  شارش حجمی (Volumetric Flow)\n",
      "current field:  ذخیره دیجیتال (Digital storage)\n",
      "current field:  انتقال داده (سرعت اینترنت)(Data-transfer)\n",
      "current field:  پیشوندهای SI\n"
     ]
    }
   ],
   "source": [
    "import requests\n",
    "import random\n",
    "import json\n",
    "import re\n",
    "\n",
    "from hazm import *\n",
    "\n",
    "def GET_UA():\n",
    "    uastrings = [\"Mozilla/5.0 (Windows NT 6.1; WOW64) AppleWebKit/537.36 (KHTML, like Gecko) Chrome/38.0.2125.111 Safari/537.36\",\\\n",
    "                \"Mozilla/5.0 (Windows NT 6.1; WOW64) AppleWebKit/537.36 (KHTML, like Gecko) Chrome/28.0.1500.72 Safari/537.36\",\\\n",
    "                \"Mozilla/5.0 (Macintosh; Intel Mac OS X 10_10) AppleWebKit/600.1.25 (KHTML, like Gecko) Version/8.0 Safari/600.1.25\",\\\n",
    "                \"Mozilla/5.0 (Windows NT 6.1; WOW64; rv:33.0) Gecko/20100101 Firefox/33.0\",\\\n",
    "                \"Mozilla/5.0 (Windows NT 6.3; WOW64) AppleWebKit/537.36 (KHTML, like Gecko) Chrome/38.0.2125.111 Safari/537.36\",\\\n",
    "                \"Mozilla/5.0 (Macintosh; Intel Mac OS X 10_10_0) AppleWebKit/537.36 (KHTML, like Gecko) Chrome/38.0.2125.111 Safari/537.36\",\\\n",
    "                \"Mozilla/5.0 (Macintosh; Intel Mac OS X 10_9_5) AppleWebKit/600.1.17 (KHTML, like Gecko) Version/7.1 Safari/537.85.10\",\\\n",
    "                \"Mozilla/5.0 (Windows NT 6.1; WOW64; Trident/7.0; rv:11.0) like Gecko\",\\\n",
    "                \"Mozilla/5.0 (Windows NT 6.3; WOW64; rv:33.0) Gecko/20100101 Firefox/33.0\",\\\n",
    "                \"Mozilla/5.0 (Windows NT 6.1; WOW64) AppleWebKit/537.36 (KHTML, like Gecko) Chrome/38.0.2125.104 Safari/537.36\"\\\n",
    "                ]\n",
    " \n",
    "    return random.choice(uastrings)\n",
    "\n",
    "response = requests.get('https://www.bahesab.ir/calc/unit/', headers={'User-Agent': GET_UA()})\n",
    "\n",
    "from bs4 import BeautifulSoup\n",
    "\n",
    "soup = BeautifulSoup(response.text).select('select.select1 > option')\n",
    "names = [(item.get_text(), item.attrs[\"value\"]) for item in soup]\n",
    "\n",
    "headers = {\n",
    "    'authority': 'www.bahesab.ir',\n",
    "    'accept': '*/*',\n",
    "    'accept-language': 'en-US,en;q=0.9,fa-IR;q=0.8,fa;q=0.7',\n",
    "    'origin': 'https://www.bahesab.ir',\n",
    "    'referer': 'https://www.bahesab.ir/calc/unit/',\n",
    "    'sec-ch-ua': '\" Not A;Brand\";v=\"99\", \"Chromium\";v=\"100\", \"Google Chrome\";v=\"100\"',\n",
    "    'sec-ch-ua-mobile': '?0',\n",
    "    'sec-ch-ua-platform': '\"Linux\"',\n",
    "    'sec-fetch-dest': 'empty',\n",
    "    'sec-fetch-mode': 'cors',\n",
    "    'sec-fetch-site': 'same-origin',\n",
    "    'user-agent': 'Mozilla/5.0 (X11; Linux x86_64) AppleWebKit/537.36 (KHTML, like Gecko) Chrome/100.0.4896.75 Safari/537.36',\n",
    "}\n",
    "\n",
    "\n",
    "measurements = []\n",
    "normalizer = Normalizer(token_based=True)\n",
    "\n",
    "\n",
    "for name, field in names:\n",
    "    \n",
    "    print('current field: ', name)\n",
    "    \n",
    "    data = {\n",
    "    'string_o': '{\"a\":1,\"b\":\"%s\",\"c\":0,\"d\":0,\"e\":0}' % field,\n",
    "    }\n",
    "\n",
    "    response = requests.post('https://www.bahesab.ir/cdn/unit/', headers=headers, data=data)\n",
    "    \n",
    "    text = response.json()['v']\n",
    "    soup = BeautifulSoup(text).select('option')\n",
    "\n",
    "    for meas in [item.get_text().strip() for item in soup]:\n",
    "            \n",
    "        meas = normalizer.normalize(meas)\n",
    "        \n",
    "        if '(' in meas:\n",
    "            measurements.append((\n",
    "                name, field, meas[:meas.rindex('(')].strip(), meas[meas.rindex('('):][1:-1]))\n",
    "        else:\n",
    "            measurements.append((name, field, meas, ''))"
   ]
  },
  {
   "cell_type": "code",
   "execution_count": 175,
   "metadata": {},
   "outputs": [],
   "source": [
    "df = pd.DataFrame(measurements, columns=['name', 'field', 'persian', 'english'])"
   ]
  },
  {
   "cell_type": "code",
   "execution_count": 179,
   "metadata": {},
   "outputs": [
    {
     "data": {
      "text/html": [
       "<div>\n",
       "<style scoped>\n",
       "    .dataframe tbody tr th:only-of-type {\n",
       "        vertical-align: middle;\n",
       "    }\n",
       "\n",
       "    .dataframe tbody tr th {\n",
       "        vertical-align: top;\n",
       "    }\n",
       "\n",
       "    .dataframe thead th {\n",
       "        text-align: right;\n",
       "    }\n",
       "</style>\n",
       "<table border=\"1\" class=\"dataframe\">\n",
       "  <thead>\n",
       "    <tr style=\"text-align: right;\">\n",
       "      <th></th>\n",
       "      <th>name</th>\n",
       "      <th>field</th>\n",
       "      <th>persian</th>\n",
       "      <th>english</th>\n",
       "    </tr>\n",
       "  </thead>\n",
       "  <tbody>\n",
       "    <tr>\n",
       "      <th>142</th>\n",
       "      <td>نیرو (Force)</td>\n",
       "      <td>force</td>\n",
       "      <td>اونس-نیرو</td>\n",
       "      <td>ozf</td>\n",
       "    </tr>\n",
       "    <tr>\n",
       "      <th>301</th>\n",
       "      <td>شارش حجمی (Volumetric Flow)</td>\n",
       "      <td>debi-v</td>\n",
       "      <td>متر مکعب بر ساعت</td>\n",
       "      <td></td>\n",
       "    </tr>\n",
       "    <tr>\n",
       "      <th>32</th>\n",
       "      <td>وزن (Weight)</td>\n",
       "      <td>Weight</td>\n",
       "      <td>کیلوگرم</td>\n",
       "      <td>kg</td>\n",
       "    </tr>\n",
       "    <tr>\n",
       "      <th>347</th>\n",
       "      <td>ذخیره دیجیتال (Digital storage)</td>\n",
       "      <td>data-storage</td>\n",
       "      <td>پتا بایت</td>\n",
       "      <td>PB</td>\n",
       "    </tr>\n",
       "    <tr>\n",
       "      <th>46</th>\n",
       "      <td>وزن (Weight)</td>\n",
       "      <td>Weight</td>\n",
       "      <td>سوت</td>\n",
       "      <td></td>\n",
       "    </tr>\n",
       "    <tr>\n",
       "      <th>293</th>\n",
       "      <td>شارش جرمی (Mass Flow)</td>\n",
       "      <td>debi</td>\n",
       "      <td>پوند بر ساعت</td>\n",
       "      <td></td>\n",
       "    </tr>\n",
       "    <tr>\n",
       "      <th>382</th>\n",
       "      <td>انتقال داده (سرعت اینترنت)(Data-transfer)</td>\n",
       "      <td>data-transfer</td>\n",
       "      <td>گیگا بیت بر ساعت</td>\n",
       "      <td>Gb/h</td>\n",
       "    </tr>\n",
       "    <tr>\n",
       "      <th>64</th>\n",
       "      <td>فشار (Pressure)</td>\n",
       "      <td>pressure</td>\n",
       "      <td>میلیمتر جیوه</td>\n",
       "      <td>mmHg</td>\n",
       "    </tr>\n",
       "    <tr>\n",
       "      <th>77</th>\n",
       "      <td>فشار (Pressure)</td>\n",
       "      <td>pressure</td>\n",
       "      <td>نیوتن بر متر مربع</td>\n",
       "      <td></td>\n",
       "    </tr>\n",
       "    <tr>\n",
       "      <th>364</th>\n",
       "      <td>انتقال داده (سرعت اینترنت)(Data-transfer)</td>\n",
       "      <td>data-transfer</td>\n",
       "      <td>مبی بایت برثانیه</td>\n",
       "      <td>MiB/s</td>\n",
       "    </tr>\n",
       "  </tbody>\n",
       "</table>\n",
       "</div>"
      ],
      "text/plain": [
       "                                          name          field  \\\n",
       "142  نیرو (Force)                               force           \n",
       "301  شارش حجمی (Volumetric Flow)                debi-v          \n",
       "32   وزن (Weight)                               Weight          \n",
       "347  ذخیره دیجیتال (Digital storage)            data-storage    \n",
       "46   وزن (Weight)                               Weight          \n",
       "293  شارش جرمی (Mass Flow)                      debi            \n",
       "382  انتقال داده (سرعت اینترنت)(Data-transfer)  data-transfer   \n",
       "64   فشار (Pressure)                            pressure        \n",
       "77   فشار (Pressure)                            pressure        \n",
       "364  انتقال داده (سرعت اینترنت)(Data-transfer)  data-transfer   \n",
       "\n",
       "               persian english  \n",
       "142  اونس-نیرو          ozf     \n",
       "301  متر مکعب بر ساعت           \n",
       "32   کیلوگرم            kg      \n",
       "347  پتا بایت           PB      \n",
       "46   سوت                        \n",
       "293  پوند بر ساعت               \n",
       "382  گیگا بیت بر ساعت   Gb/h    \n",
       "64   میلیمتر جیوه       mmHg    \n",
       "77   نیوتن بر متر مربع          \n",
       "364  مبی بایت برثانیه   MiB/s   "
      ]
     },
     "metadata": {},
     "output_type": "display_data"
    }
   ],
   "source": [
    "with pd.option_context('display.max_rows', None, 'display.max_columns', None):\n",
    "    display(df.sample(10))"
   ]
  },
  {
   "cell_type": "code",
   "execution_count": 180,
   "metadata": {},
   "outputs": [],
   "source": [
    "df.to_csv('measurement-units.csv', index=False)"
   ]
  },
  {
   "cell_type": "code",
   "execution_count": null,
   "metadata": {},
   "outputs": [],
   "source": []
  }
 ],
 "metadata": {
  "kernelspec": {
   "display_name": "ir-venv",
   "language": "python",
   "name": "ir-venv"
  },
  "language_info": {
   "codemirror_mode": {
    "name": "ipython",
    "version": 3
   },
   "file_extension": ".py",
   "mimetype": "text/x-python",
   "name": "python",
   "nbconvert_exporter": "python",
   "pygments_lexer": "ipython3",
   "version": "3.6.15"
  }
 },
 "nbformat": 4,
 "nbformat_minor": 4
}
